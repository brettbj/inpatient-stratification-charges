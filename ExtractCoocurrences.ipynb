{
 "cells": [
  {
   "cell_type": "code",
   "execution_count": null,
   "metadata": {
    "collapsed": true
   },
   "outputs": [],
   "source": [
    "import pyodbc\n",
    "import pandas as pd\n",
    "\n",
    "cnxn = pyodbc.connect('DRIVER={Cloudera ODBC Driver for Impala};HOST=HIDDEN;PORT=25003;AuthMech=1;UseSASL=1;DATABASE=phd;',\n",
    "                      autocommit=True)\n",
    "cursor = cnxn.cursor()\n",
    "\n",
    "cursor.execute(\"Show tables;\")\n",
    "row = cursor.fetchone()\n",
    "while row:\n",
    "    print(row[0])\n",
    "    row = cursor.fetchone()\n"
   ]
  },
  {
   "cell_type": "code",
   "execution_count": null,
   "metadata": {
    "collapsed": true
   },
   "outputs": [],
   "source": [
    "# test query \n",
    "query = (\"SELECT a1.STD_CHG_CODE as id1, a2.STD_CHG_CODE as id2, COUNT(1) as weight FROM \" +\n",
    "         \"(SELECT b.PAT_KEY, b.SERV_DAY, b.STD_CHG_CODE, b.STD_QTY FROM phd_20163_patbill b \" +\n",
    "         \"ORDER BY b.PAT_KEY, b.SERV_DAY LIMIT 1000) a1 \" +\n",
    "         \"JOIN (SELECT b.PAT_KEY, b.SERV_DAY, b.STD_CHG_CODE, b.STD_QTY FROM phd_20163_patbill b \" +\n",
    "         \"ORDER BY b.PAT_KEY, b.SERV_DAY LIMIT 1000) a2 \" +\n",
    "         \"ON a1.PAT_KEY = a2.PAT_KEY AND a1.SERV_DAY = a2.SERV_DAY AND a1.STD_CHG_CODE < a2.STD_CHG_CODE \" +\n",
    "         \"GROUP BY a1.STD_CHG_CODE, a2.STD_CHG_CODE ORDER BY COUNT(1) DESC\")\n",
    "\n",
    "df = pd.read_sql(query, cnxn)\n",
    "print(df.shape)"
   ]
  },
  {
   "cell_type": "code",
   "execution_count": null,
   "metadata": {
    "collapsed": true
   },
   "outputs": [],
   "source": [
    "rel_list = []\n",
    "df = None\n",
    "for i in range(10, 19):\n",
    "    for j in range(1, 5):\n",
    "        if i == 18 and j == 4:\n",
    "            continue\n",
    "        \n",
    "        print(i, j)\n",
    "        query = (\"SELECT a1.STD_CHG_CODE as id1, a2.STD_CHG_CODE as id2, COUNT(1) as weight FROM \" +\n",
    "                 \"(SELECT b.PAT_KEY, b.SERV_DAY, b.STD_CHG_CODE, b.STD_QTY FROM phd_20\" + str(i) + str(j) + \"_patbill b \" +\n",
    "                 \"ORDER BY b.PAT_KEY, b.SERV_DAY) a1 \" +\n",
    "                 \"JOIN (SELECT b.PAT_KEY, b.SERV_DAY, b.STD_CHG_CODE, b.STD_QTY FROM phd_20\" + str(i) + str(j) + \"_patbill b \" +\n",
    "                 \"ORDER BY b.PAT_KEY, b.SERV_DAY) a2 \" +\n",
    "                 \"ON a1.PAT_KEY = a2.PAT_KEY AND a1.SERV_DAY = a2.SERV_DAY AND a1.STD_CHG_CODE < a2.STD_CHG_CODE \" +\n",
    "                 \"GROUP BY a1.STD_CHG_CODE, a2.STD_CHG_CODE ORDER BY COUNT(1) DESC\")\n",
    "        \n",
    "        res_df = pd.read_sql(query, cnxn)\n",
    "        res_df.set_index(['id1', 'id2'], inplace=True)\n",
    "        res_df['weight'].astype('int64', inplace=True)\n",
    "        \n",
    "        if df is None:\n",
    "            df = res_df\n",
    "        else:\n",
    "            df = df.add(res_df, fill_value=0).astype('int64')\n",
    "            \n",
    "        df.sort_values(['id1', 'id2'], inplace=True)\n",
    "        print(df.shape)\n",
    "        print(df.head())"
   ]
  },
  {
   "cell_type": "code",
   "execution_count": null,
   "metadata": {
    "collapsed": true
   },
   "outputs": [],
   "source": [
    "print(df.shape)"
   ]
  },
  {
   "cell_type": "code",
   "execution_count": null,
   "metadata": {
    "collapsed": true
   },
   "outputs": [],
   "source": [
    "%matplotlib inline\n",
    "print(df.head(100))\n",
    "print(df['weight'].dtype)\n",
    "df['weight'].hist()"
   ]
  },
  {
   "cell_type": "code",
   "execution_count": null,
   "metadata": {},
   "outputs": [],
   "source": [
    "import pandas as pd\n",
    "df = pd.read_csv('./features/rels.csv', header=0, index_col=['id1', 'id2'])\n",
    "print(df.shape)\n",
    "print(df.columns)\n",
    "print(df.head())"
   ]
  },
  {
   "cell_type": "code",
   "execution_count": null,
   "metadata": {},
   "outputs": [],
   "source": [
    "print(df['weight'].sum())"
   ]
  },
  {
   "cell_type": "code",
   "execution_count": null,
   "metadata": {
    "collapsed": true
   },
   "outputs": [],
   "source": [
    "df_10 = df[df['weight'] >= 10]\n",
    "print(df_10.shape)\n",
    "df_10.to_csv('./features/rels_10.csv')"
   ]
  }
 ],
 "metadata": {
  "kernelspec": {
   "display_name": "Python 3",
   "language": "python",
   "name": "python3"
  },
  "language_info": {
   "codemirror_mode": {
    "name": "ipython",
    "version": 3
   },
   "file_extension": ".py",
   "mimetype": "text/x-python",
   "name": "python",
   "nbconvert_exporter": "python",
   "pygments_lexer": "ipython3",
   "version": "3.6.3"
  }
 },
 "nbformat": 4,
 "nbformat_minor": 2
}
